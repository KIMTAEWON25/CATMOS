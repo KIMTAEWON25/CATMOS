{
 "cells": [
  {
   "cell_type": "code",
   "execution_count": 3,
   "metadata": {},
   "outputs": [
    {
     "name": "stdout",
     "output_type": "stream",
     "text": [
      "Persian  파일 길이 :  826\n",
      "Persian  :  ./Cat_Class/Persian\\persian (1).jpg\n",
      "Persian  :  ./Cat_Class/Persian\\persian256.jpg\n",
      "Siberia  파일 길이 :  1672\n",
      "Siberia  :  ./Cat_Class/Siberia\\Siberia (1).jpg\n",
      "Siberia  :  ./Cat_Class/Siberia\\Siberia (211).jpg\n",
      "Siberia  :  ./Cat_Class/Siberia\\Siberia (842).jpg\n",
      "boom  파일 길이 :  599\n",
      "boom  :  ./Cat_Class/boom\\001.jpg\n",
      "Rusianblue  파일 길이 :  2262\n",
      "Rusianblue  :  ./Cat_Class/Rusianblue\\Rusianblue(1).jpg\n",
      "Rusianblue  :  ./Cat_Class/Rusianblue\\Rusianblue(1629).jpg\n",
      "Rusianblue  :  ./Cat_Class/Rusianblue\\Rusianblue(2259).jpg\n",
      "Rusianblue  :  ./Cat_Class/Rusianblue\\Rusianblue(853).jpg\n",
      "ok 5359\n"
     ]
    }
   ],
   "source": [
    "from PIL import Image \n",
    "import os, glob, numpy as np  #os,glob 운영체제 관리  numpy 수학적 표현\n",
    "from sklearn.model_selection import train_test_split#전체 데이터셋 배열을 받아서 랜덤하게 훈련/테스트 데이터 셋으로 분리해주는 함수\n",
    "\n",
    "caltech_dir = \"./Cat_Class\"\n",
    "categories = [\"Persian\",\"Siberia\",\"boom\",\"Rusianblue\"]\n",
    "nb_classes = len(categories)\n",
    "#이미지 크기 64 X 64\n",
    "image_w = 64\n",
    "image_h = 64\n",
    "\n",
    "pixels = image_h * image_w * 3\n",
    "\n",
    "X = []\n",
    "y = []\n",
    "\n",
    "for idx, cat in enumerate(categories):\n",
    "    \n",
    "    \n",
    "    label = [0 for i in range(nb_classes)]\n",
    "    label[idx] = 1\n",
    "\n",
    "    image_dir = caltech_dir + \"/\" + cat\n",
    "    files = glob.glob(image_dir+\"/*.jpg\")\n",
    "    print(cat, \" 파일 길이 : \", len(files))\n",
    "    for i, f in enumerate(files):\n",
    "        img = Image.open(f)\n",
    "        img = img.convert(\"RGB\")\n",
    "        img = img.resize((image_w, image_h))\n",
    "        data = np.asarray(img)\n",
    "\n",
    "        X.append(data) #변경한 img 데이터 파일을 X리스트에 추가\n",
    "        y.append(label) \n",
    "\n",
    "        if i % 700 == 0: \n",
    "            print(cat, \" : \", f)\n",
    "\n",
    "X = np.array(X)\n",
    "y = np.array(y)\n",
    "\n",
    "\n",
    "\n",
    "X_train, X_test, y_train, y_test = train_test_split(X, y) #tarain_test x값과 y값을 각 저장\n",
    "xy = (X_train, X_test, y_train, y_test) \n",
    "np.save(\"./numpy_data/multi_image_data.npy\", xy) #npy파일로 저장 \n",
    "\n",
    "print(\"ok\", len(y))\n"
   ]
  },
  {
   "cell_type": "markdown",
   "metadata": {},
   "source": [
    "이제 numpy 데이터를 불러온다. 저것을 가지고 학습!"
   ]
  },
  {
   "cell_type": "code",
   "execution_count": 5,
   "metadata": {},
   "outputs": [
    {
     "name": "stdout",
     "output_type": "stream",
     "text": [
      "(4019, 64, 64, 3)\n",
      "4019\n"
     ]
    }
   ],
   "source": [
    "import os, glob, numpy as np\n",
    "from keras.models import Sequential\n",
    "from keras.layers import Conv2D, MaxPooling2D, Dense, Flatten, Dropout\n",
    "from keras.callbacks import EarlyStopping, ModelCheckpoint\n",
    "import matplotlib.pyplot as plt\n",
    "import keras.backend.tensorflow_backend as K #GPU 구현을 위한 함수 \n",
    "\n",
    "import tensorflow as tf     #GPU 환경구현에 있어서 메모리를 절약해서 사용하기 위한 코드 \n",
    "config = tf.ConfigProto()\n",
    "config.gpu_options.allow_growth = True\n",
    "session = tf.Session(config=config)\n",
    "\n",
    "X_train, X_test, y_train, y_test = np.load('./numpy_data/multi_image_data.npy')\n",
    "print(X_train.shape)\n",
    "print(X_train.shape[0])"
   ]
  },
  {
   "cell_type": "code",
   "execution_count": 6,
   "metadata": {},
   "outputs": [],
   "source": [
    "categories = [\"Persian\",\"Siberia\",\"boom\",\"Rusianblue\"]\n",
    "nb_classes = len(categories)\n",
    "\n",
    "#일반화\n",
    "X_train = X_train.astype(float) / 255\n",
    "X_test = X_test.astype(float) / 255"
   ]
  },
  {
   "cell_type": "code",
   "execution_count": 9,
   "metadata": {},
   "outputs": [],
   "source": [
    "with K.tf_ops.device('/device:GPU:0'): #CNN , GPU 환경 구현화 선형 -> 비선형 ->플링 계층\n",
    "    model = Sequential() #선형계층을 형성\n",
    "    model.add(Conv2D(32, (3,3), padding=\"same\", input_shape=X_train.shape[1:], activation='relu'))# CNN기본환경 Conv2D사용 relu(비선형계층) 로 활성화\n",
    "    model.add(MaxPooling2D(pool_size=(2,2)))#플링 계층\n",
    "    model.add(Dropout(0.2))# 에러율 감소를 위해 사용하는 훈련함수\n",
    "    \n",
    "    model.add(Conv2D(64, (3,3), padding=\"same\", activation='relu'))\n",
    "    model.add(MaxPooling2D(pool_size=(2,2)))\n",
    "    model.add(Dropout(0.2))\n",
    "    \n",
    "    model.add(Conv2D(128, (3,3), padding=\"same\", activation='relu'))\n",
    "    model.add(MaxPooling2D(pool_size=(2,2)))\n",
    "    model.add(Dropout(0.2))\n",
    "    \n",
    "    model.add(Conv2D(256, (3,3), padding=\"same\", activation='relu'))\n",
    "    model.add(MaxPooling2D(pool_size=(2,2)))\n",
    "    model.add(Dropout(0.2))\n",
    "    \n",
    "    model.add(Flatten()) #다차원배열을 1차원 \n",
    "    model.add(Dense(512, activation='relu'))\n",
    "    model.add(Dropout(0.2))\n",
    "    model.add(Dense(nb_classes, activation='softmax'))#softmax함수의 출력은 0부터 1사이의 실수이며 ,출력의 총합은 1을 표현해주고,확률할때 사용해준다\n",
    "    model.compile(loss='categorical_crossentropy', optimizer='adam', metrics=['accuracy']) #metrics 분석측정 즉 정확도\n",
    "    model_dir = './model'                       #optimizer 딥러닝에서 학습속도를 빠르고 안정하게 \n",
    "    if not os.path.exists(model_dir):\n",
    "        os.mkdir(model_dir)\n",
    "    \n",
    "    model_path = model_dir + '/multi_img_classification.model'\n",
    "    checkpoint = ModelCheckpoint(filepath=model_path , monitor='val_loss', verbose=1, save_best_only=True)\n",
    "    #ModelCheckpoint keras에서 모델을 학슬할 때마다 중간중간 콜백 형태로 알려줌 , verborse 함수의 진행 사항의 출력 여부, \n",
    "    #save_besr_only 모델의 정확도가 최고값을 갱신했을 때만 저장하도록 하는 옵션\n",
    "    early_stopping = EarlyStopping(monitor='val_loss', patience=6) #학습종료 patience 성능이 증가하지 않는 epoch를 몇번이나 몇번이가 허용할 것인가 \n",
    "    \n",
    "    "
   ]
  },
  {
   "cell_type": "code",
   "execution_count": 10,
   "metadata": {},
   "outputs": [
    {
     "name": "stdout",
     "output_type": "stream",
     "text": [
      "Model: \"sequential_3\"\n",
      "_________________________________________________________________\n",
      "Layer (type)                 Output Shape              Param #   \n",
      "=================================================================\n",
      "conv2d_5 (Conv2D)            (None, 64, 64, 32)        896       \n",
      "_________________________________________________________________\n",
      "max_pooling2d_5 (MaxPooling2 (None, 32, 32, 32)        0         \n",
      "_________________________________________________________________\n",
      "dropout_7 (Dropout)          (None, 32, 32, 32)        0         \n",
      "_________________________________________________________________\n",
      "conv2d_6 (Conv2D)            (None, 32, 32, 64)        18496     \n",
      "_________________________________________________________________\n",
      "max_pooling2d_6 (MaxPooling2 (None, 16, 16, 64)        0         \n",
      "_________________________________________________________________\n",
      "dropout_8 (Dropout)          (None, 16, 16, 64)        0         \n",
      "_________________________________________________________________\n",
      "conv2d_7 (Conv2D)            (None, 16, 16, 128)       73856     \n",
      "_________________________________________________________________\n",
      "max_pooling2d_7 (MaxPooling2 (None, 8, 8, 128)         0         \n",
      "_________________________________________________________________\n",
      "dropout_9 (Dropout)          (None, 8, 8, 128)         0         \n",
      "_________________________________________________________________\n",
      "conv2d_8 (Conv2D)            (None, 8, 8, 256)         295168    \n",
      "_________________________________________________________________\n",
      "max_pooling2d_8 (MaxPooling2 (None, 4, 4, 256)         0         \n",
      "_________________________________________________________________\n",
      "dropout_10 (Dropout)         (None, 4, 4, 256)         0         \n",
      "_________________________________________________________________\n",
      "flatten_3 (Flatten)          (None, 4096)              0         \n",
      "_________________________________________________________________\n",
      "dense_5 (Dense)              (None, 512)               2097664   \n",
      "_________________________________________________________________\n",
      "dropout_11 (Dropout)         (None, 512)               0         \n",
      "_________________________________________________________________\n",
      "dense_6 (Dense)              (None, 4)                 2052      \n",
      "=================================================================\n",
      "Total params: 2,488,132\n",
      "Trainable params: 2,488,132\n",
      "Non-trainable params: 0\n",
      "_________________________________________________________________\n"
     ]
    }
   ],
   "source": [
    "model.summary()"
   ]
  },
  {
   "cell_type": "code",
   "execution_count": 11,
   "metadata": {
    "scrolled": true
   },
   "outputs": [
    {
     "name": "stdout",
     "output_type": "stream",
     "text": [
      "WARNING:tensorflow:From C:\\Users\\KIMTAEWON\\Anaconda3\\lib\\site-packages\\keras\\backend\\tensorflow_backend.py:422: The name tf.global_variables is deprecated. Please use tf.compat.v1.global_variables instead.\n",
      "\n",
      "Train on 4019 samples, validate on 1340 samples\n",
      "Epoch 1/50\n",
      "4019/4019 [==============================] - 38s 9ms/step - loss: 1.0701 - accuracy: 0.5061 - val_loss: 0.7715 - val_accuracy: 0.6709\n",
      "\n",
      "Epoch 00001: val_loss improved from inf to 0.77147, saving model to ./model/multi_img_classification.model\n",
      "Epoch 2/50\n",
      "4019/4019 [==============================] - 42s 10ms/step - loss: 0.7383 - accuracy: 0.6706 - val_loss: 0.6527 - val_accuracy: 0.7425\n",
      "\n",
      "Epoch 00002: val_loss improved from 0.77147 to 0.65271, saving model to ./model/multi_img_classification.model\n",
      "Epoch 3/50\n",
      "4019/4019 [==============================] - 44s 11ms/step - loss: 0.6145 - accuracy: 0.7435 - val_loss: 0.5424 - val_accuracy: 0.8090\n",
      "\n",
      "Epoch 00003: val_loss improved from 0.65271 to 0.54241, saving model to ./model/multi_img_classification.model\n",
      "Epoch 4/50\n",
      "4019/4019 [==============================] - 43s 11ms/step - loss: 0.5213 - accuracy: 0.7982 - val_loss: 0.4383 - val_accuracy: 0.8470\n",
      "\n",
      "Epoch 00004: val_loss improved from 0.54241 to 0.43831, saving model to ./model/multi_img_classification.model\n",
      "Epoch 5/50\n",
      "4019/4019 [==============================] - 41s 10ms/step - loss: 0.4514 - accuracy: 0.8278 - val_loss: 0.4869 - val_accuracy: 0.7881\n",
      "\n",
      "Epoch 00005: val_loss did not improve from 0.43831\n",
      "Epoch 6/50\n",
      "4019/4019 [==============================] - 41s 10ms/step - loss: 0.3804 - accuracy: 0.8594 - val_loss: 0.3644 - val_accuracy: 0.8791\n",
      "\n",
      "Epoch 00006: val_loss improved from 0.43831 to 0.36437, saving model to ./model/multi_img_classification.model\n",
      "Epoch 7/50\n",
      "4019/4019 [==============================] - 58s 14ms/step - loss: 0.3435 - accuracy: 0.8741 - val_loss: 0.3455 - val_accuracy: 0.8672\n",
      "\n",
      "Epoch 00007: val_loss improved from 0.36437 to 0.34553, saving model to ./model/multi_img_classification.model\n",
      "Epoch 8/50\n",
      "4019/4019 [==============================] - 49s 12ms/step - loss: 0.2843 - accuracy: 0.8962 - val_loss: 0.3581 - val_accuracy: 0.8784\n",
      "\n",
      "Epoch 00008: val_loss did not improve from 0.34553\n",
      "Epoch 9/50\n",
      "4019/4019 [==============================] - 44s 11ms/step - loss: 0.2392 - accuracy: 0.9149 - val_loss: 0.3255 - val_accuracy: 0.8799\n",
      "\n",
      "Epoch 00009: val_loss improved from 0.34553 to 0.32550, saving model to ./model/multi_img_classification.model\n",
      "Epoch 10/50\n",
      "4019/4019 [==============================] - 44s 11ms/step - loss: 0.1909 - accuracy: 0.9278 - val_loss: 0.2233 - val_accuracy: 0.9209\n",
      "\n",
      "Epoch 00010: val_loss improved from 0.32550 to 0.22325, saving model to ./model/multi_img_classification.model\n",
      "Epoch 11/50\n",
      "4019/4019 [==============================] - 42s 11ms/step - loss: 0.1931 - accuracy: 0.9278 - val_loss: 0.2506 - val_accuracy: 0.9172\n",
      "\n",
      "Epoch 00011: val_loss did not improve from 0.22325\n",
      "Epoch 12/50\n",
      "4019/4019 [==============================] - 44s 11ms/step - loss: 0.1496 - accuracy: 0.9400 - val_loss: 0.2374 - val_accuracy: 0.9216\n",
      "\n",
      "Epoch 00012: val_loss did not improve from 0.22325\n",
      "Epoch 13/50\n",
      "4019/4019 [==============================] - 42s 11ms/step - loss: 0.1446 - accuracy: 0.9492 - val_loss: 0.2476 - val_accuracy: 0.9179\n",
      "\n",
      "Epoch 00013: val_loss did not improve from 0.22325\n",
      "Epoch 14/50\n",
      "4019/4019 [==============================] - 43s 11ms/step - loss: 0.1131 - accuracy: 0.9575 - val_loss: 0.2130 - val_accuracy: 0.9373\n",
      "\n",
      "Epoch 00014: val_loss improved from 0.22325 to 0.21298, saving model to ./model/multi_img_classification.model\n",
      "Epoch 15/50\n",
      "4019/4019 [==============================] - 43s 11ms/step - loss: 0.1174 - accuracy: 0.9577 - val_loss: 0.1897 - val_accuracy: 0.9418\n",
      "\n",
      "Epoch 00015: val_loss improved from 0.21298 to 0.18972, saving model to ./model/multi_img_classification.model\n",
      "Epoch 16/50\n",
      "4019/4019 [==============================] - 49s 12ms/step - loss: 0.0666 - accuracy: 0.9771 - val_loss: 0.2384 - val_accuracy: 0.9239\n",
      "\n",
      "Epoch 00016: val_loss did not improve from 0.18972\n",
      "Epoch 17/50\n",
      "4019/4019 [==============================] - 41s 10ms/step - loss: 0.0861 - accuracy: 0.9679 - val_loss: 0.2341 - val_accuracy: 0.9321\n",
      "\n",
      "Epoch 00017: val_loss did not improve from 0.18972\n",
      "Epoch 18/50\n",
      "4019/4019 [==============================] - 42s 10ms/step - loss: 0.0714 - accuracy: 0.9754 - val_loss: 0.1974 - val_accuracy: 0.9366\n",
      "\n",
      "Epoch 00018: val_loss did not improve from 0.18972\n",
      "Epoch 19/50\n",
      "4019/4019 [==============================] - 40s 10ms/step - loss: 0.0557 - accuracy: 0.9813 - val_loss: 0.2425 - val_accuracy: 0.9284\n",
      "\n",
      "Epoch 00019: val_loss did not improve from 0.18972\n",
      "Epoch 20/50\n",
      "4019/4019 [==============================] - 45s 11ms/step - loss: 0.0530 - accuracy: 0.9816 - val_loss: 0.1953 - val_accuracy: 0.9448\n",
      "\n",
      "Epoch 00020: val_loss did not improve from 0.18972\n",
      "Epoch 21/50\n",
      "4019/4019 [==============================] - 42s 10ms/step - loss: 0.0533 - accuracy: 0.9821 - val_loss: 0.2389 - val_accuracy: 0.9306\n",
      "\n",
      "Epoch 00021: val_loss did not improve from 0.18972\n"
     ]
    }
   ],
   "source": [
    " history = model.fit(X_train, y_train, batch_size=32, epochs=50, validation_data=(X_test, y_test),\n",
    "                     callbacks=[checkpoint, early_stopping])\n",
    "    #early_stopping 학습종료"
   ]
  },
  {
   "cell_type": "code",
   "execution_count": 12,
   "metadata": {},
   "outputs": [
    {
     "name": "stdout",
     "output_type": "stream",
     "text": [
      "1340/1340 [==============================] - 3s 2ms/step\n",
      "정확도 : 0.9306\n"
     ]
    }
   ],
   "source": [
    "print(\"정확도 : %.4f\" % (model.evaluate(X_test, y_test)[1]))"
   ]
  },
  {
   "cell_type": "code",
   "execution_count": 13,
   "metadata": {
    "scrolled": true
   },
   "outputs": [
    {
     "data": {
      "image/png": "[encoded data removed]",
      "text/plain": [
       "<Figure size 432x288 with 1 Axes>"
      ]
     },
     "metadata": {
      "needs_background": "light"
     },
     "output_type": "display_data"
    }
   ],
   "source": [
    "y_vloss = history.history['val_loss']\n",
    "y_loss = history.history['loss']\n",
    "\n",
    "x_len = np.arange(len(y_loss))\n",
    "\n",
    "plt.plot(x_len, y_vloss, marker='.', c='red', label='val_set_loss') #데이터셋\n",
    "plt.plot(x_len, y_loss, marker='.', c='blue', label='train_set_oss') #훈련데이터\n",
    "plt.legend()\n",
    "plt.xlabel('epochs')\n",
    "plt.ylabel('loss')\n",
    "plt.grid()\n",
    "plt.show()"
   ]
  },
  {
   "cell_type": "code",
   "execution_count": 15,
   "metadata": {},
   "outputs": [
    {
     "name": "stdout",
     "output_type": "stream",
     "text": [
      "[0.000 0.000 1.000 0.000]\n",
      "2\n",
      "해당 028.jpg이미지는 boom으로 추정됩니다.\n",
      "[0.000 0.000 1.000 0.000]\n",
      "2\n",
      "해당 cat.174.jpg이미지는 boom으로 추정됩니다.\n",
      "[0.000 0.000 1.000 0.000]\n",
      "2\n",
      "해당 cat.190.jpg이미지는 boom으로 추정됩니다.\n",
      "[0.000 1.000 0.000 0.000]\n",
      "1\n",
      "해당 persian (1).jpg이미지는 Siberia으로 추정됩니다.\n",
      "[0.000 0.000 0.000 1.000]\n",
      "3\n",
      "해당 Rusianblue(39).jpg이미지는 Rusianblue으로 추정됩니다.\n",
      "[0.000 1.000 0.000 0.000]\n",
      "1\n",
      "해당 Siberia (1).jpg이미지는 Siberia으로 추정됩니다.\n"
     ]
    }
   ],
   "source": [
    "from PIL import Image\n",
    "import os, glob, numpy as np\n",
    "from keras.models import load_model\n",
    "\n",
    "caltech_dir = \"./Cat_Class/imgs_others\"\n",
    "image_w = 64\n",
    "image_h = 64\n",
    "\n",
    "pixels = image_h * image_w * 3\n",
    "\n",
    "X = []\n",
    "filenames = []\n",
    "files = glob.glob(caltech_dir+\"/*.*\")\n",
    "for i, f in enumerate(files):\n",
    "    img = Image.open(f)\n",
    "    img = img.convert(\"RGB\")\n",
    "    img = img.resize((image_w, image_h))\n",
    "    data = np.asarray(img)\n",
    "    filenames.append(f)\n",
    "    X.append(data)\n",
    "\n",
    "X = np.array(X)\n",
    "model = load_model('./model/multi_img_classification.model')\n",
    "\n",
    "prediction = model.predict(X)\n",
    "np.set_printoptions(formatter={'float': lambda x: \"{0:0.3f}\".format(x)})\n",
    "cnt = 0\n",
    "\n",
    "\n",
    "for i in prediction:\n",
    "    pre_ans = i.argmax()  # 예측 레이블\n",
    "    print(i)\n",
    "    print(pre_ans)\n",
    "    pre_ans_str = ''\n",
    "    if pre_ans == 0: pre_ans_str = \"Persian\"\n",
    "    elif pre_ans == 1: pre_ans_str = \"Siberia\"\n",
    "    elif pre_ans == 2: pre_ans_str = \"boom\"    \n",
    "    elif pre_ans == 3 : pre_ans_str = \"Rusianblue\"  \n",
    "    if i[0] >= 0.8: print(\"해당 \"+filenames[cnt].split(\"\\\\\")[1]+\"이미지는 \"+pre_ans_str+\"로 추정됩니다.\")\n",
    "    if i[1] >= 0.8: print(\"해당 \"+filenames[cnt].split(\"\\\\\")[1]+\"이미지는 \"+pre_ans_str+\"으로 추정됩니다.\")\n",
    "    if i[2] >= 0.8: print(\"해당 \"+filenames[cnt].split(\"\\\\\")[1]+\"이미지는 \"+pre_ans_str+\"으로 추정됩니다.\")\n",
    "    if i[3] >= 0.8: print(\"해당 \"+filenames[cnt].split(\"\\\\\")[1]+\"이미지는 \"+pre_ans_str+\"으로 추정됩니다.\")\n",
    "    cnt += 1\n",
    "    # print(i.argmax()) #얘가 레이블 [1. 0. 0.] 이런식으로 되어 있는 것을 숫자로 바꿔주는 것.\n",
    "    # 즉 얘랑, 나중에 카테고리 데이터 불러와서 카테고리랑 비교를 해서 같으면 맞는거고, 아니면 틀린거로 취급하면 된다.\n",
    "    # 이걸 한 것은 _4.py에.\n"
   ]
  },
  {
   "cell_type": "markdown",
   "metadata": {},
   "source": [
    "비록 데이터가 적지만 그래도 나름 학습이 잘 되었습니다.\n",
    "\n",
    "하지만 **validation data와 test data가 나뉘어져 있지 않습니다.**\n",
    "\n",
    "이는 매우 위험한 시도입니다. 왜냐하면 검증 단계에서 테스트 데이터를 사용했는데 또 마지막에 정확도 검출 시 test_data를 사용합니다.\n",
    "\n",
    "데이터가 충분하다면 이런짓은 하지 않는게 좋습니다!\n",
    "\n",
    "하지만 새로운 데이터에 대한 예측은 그래도 잘 하는군요!"
   ]
  },
  {
   "cell_type": "code",
   "execution_count": null,
   "metadata": {},
   "outputs": [],
   "source": []
  }
 ],
 "metadata": {
  "kernelspec": {
   "display_name": "Python 3",
   "language": "python",
   "name": "python3"
  },
  "language_info": {
   "codemirror_mode": {
    "name": "ipython",
    "version": 3
   },
   "file_extension": ".py",
   "mimetype": "text/x-python",
   "name": "python",
   "nbconvert_exporter": "python",
   "pygments_lexer": "ipython3",
   "version": "3.7.4"
  }
 },
 "nbformat": 4,
 "nbformat_minor": 2
}
